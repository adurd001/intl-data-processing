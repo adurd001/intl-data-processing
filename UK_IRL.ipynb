{
  "nbformat": 4,
  "nbformat_minor": 0,
  "metadata": {
    "colab": {
      "name": "UK-IRL",
      "provenance": [],
      "collapsed_sections": [],
      "authorship_tag": "ABX9TyOJTQMOc0KViTGr1LDp2QNl",
      "include_colab_link": true
    },
    "kernelspec": {
      "name": "python3",
      "display_name": "Python 3"
    },
    "widgets": {
      "application/vnd.jupyter.widget-state+json": {
        "4e079c898764414e8f582e0c19cf5f66": {
          "model_module": "@jupyter-widgets/controls",
          "model_name": "DropdownModel",
          "state": {
            "_options_labels": [
              "Select Market",
              "APAC & Singapore",
              "AUS",
              "EUROZONE",
              "LACAR",
              "NORDIC",
              "UK"
            ],
            "_view_name": "DropdownView",
            "style": "IPY_MODEL_cb85e04c47024fd3a1111be72ef26dc0",
            "_dom_classes": [],
            "description": "Market:",
            "_model_name": "DropdownModel",
            "index": 6,
            "_view_module": "@jupyter-widgets/controls",
            "_model_module_version": "1.5.0",
            "_view_count": null,
            "disabled": false,
            "_view_module_version": "1.5.0",
            "description_tooltip": null,
            "_model_module": "@jupyter-widgets/controls",
            "layout": "IPY_MODEL_676381deb0034bcab3cf2b033ad27bf8"
          }
        },
        "cb85e04c47024fd3a1111be72ef26dc0": {
          "model_module": "@jupyter-widgets/controls",
          "model_name": "DescriptionStyleModel",
          "state": {
            "_view_name": "StyleView",
            "_model_name": "DescriptionStyleModel",
            "description_width": "",
            "_view_module": "@jupyter-widgets/base",
            "_model_module_version": "1.5.0",
            "_view_count": null,
            "_view_module_version": "1.2.0",
            "_model_module": "@jupyter-widgets/controls"
          }
        },
        "676381deb0034bcab3cf2b033ad27bf8": {
          "model_module": "@jupyter-widgets/base",
          "model_name": "LayoutModel",
          "state": {
            "_view_name": "LayoutView",
            "grid_template_rows": null,
            "right": null,
            "justify_content": null,
            "_view_module": "@jupyter-widgets/base",
            "overflow": null,
            "_model_module_version": "1.2.0",
            "_view_count": null,
            "flex_flow": null,
            "width": null,
            "min_width": null,
            "border": null,
            "align_items": null,
            "bottom": null,
            "_model_module": "@jupyter-widgets/base",
            "top": null,
            "grid_column": null,
            "overflow_y": null,
            "overflow_x": null,
            "grid_auto_flow": null,
            "grid_area": null,
            "grid_template_columns": null,
            "flex": null,
            "_model_name": "LayoutModel",
            "justify_items": null,
            "grid_row": null,
            "max_height": null,
            "align_content": null,
            "visibility": null,
            "align_self": null,
            "height": null,
            "min_height": null,
            "padding": null,
            "grid_auto_rows": null,
            "grid_gap": null,
            "max_width": null,
            "order": null,
            "_view_module_version": "1.2.0",
            "grid_template_areas": null,
            "object_position": null,
            "object_fit": null,
            "grid_auto_columns": null,
            "margin": null,
            "display": null,
            "left": null
          }
        }
      }
    }
  },
  "cells": [
    {
      "cell_type": "markdown",
      "metadata": {
        "id": "view-in-github",
        "colab_type": "text"
      },
      "source": [
        "<a href=\"https://colab.research.google.com/github/adurd001/intl-data-processing/blob/master/UK_IRL.ipynb\" target=\"_parent\"><img src=\"https://colab.research.google.com/assets/colab-badge.svg\" alt=\"Open In Colab\"/></a>"
      ]
    },
    {
      "cell_type": "markdown",
      "metadata": {
        "id": "Iiy8HXaan3fp",
        "colab_type": "text"
      },
      "source": [
        "# UK Data Cleaning Jupyter Notebook\n",
        "Please follow the below instructions to ensure there are no errors processing your data. "
      ]
    },
    {
      "cell_type": "markdown",
      "metadata": {
        "id": "eNaq9FiEmEW3",
        "colab_type": "text"
      },
      "source": [
        "### This is where you will enter the properties for this run\n",
        "Tell me the Week Start date and end date in the following format: \"Mon##\" (*ex: Jan31*)\n",
        "\n",
        "Also I need to know the minimum number of deliveries to be considered a valid send. Example if you have 12 people at minimum in your test send, you will only want to capture emails delivered to over 12 people."
      ]
    },
    {
      "cell_type": "code",
      "metadata": {
        "id": "RsoSuiNnDZwH",
        "colab_type": "code",
        "cellView": "form",
        "colab": {}
      },
      "source": [
        "#Set these Parameters\n",
        "#@markdown ### Enter the start/end dates:\n",
        "start_date = 'JAN25' #@param {type:\"string\"}\n",
        "end_date = 'FEB01' #@param {type:\"string\"}\n",
        "minimum_number = 12 #@param {type:\"integer\"}\n",
        "#@markdown ### Enter the file name:\n",
        "source_file = 'Account_Send_Summary' #@param {type:\"string\"}\n",
        "##@markdown ### Select your market:\n",
        "#market = 'UK' #@param [\"APAC & Singapore\", \"AUS\", \"EUROZONE\", \"LACAR\", \"UK\"] {allow-input: true}"
      ],
      "execution_count": 0,
      "outputs": []
    },
    {
      "cell_type": "code",
      "metadata": {
        "id": "U3EbdNvnUa4n",
        "colab_type": "code",
        "cellView": "form",
        "outputId": "59900966-bdd6-4f20-b764-bc2d4e4a51fb",
        "colab": {
          "base_uri": "https://localhost:8080/",
          "height": 49,
          "referenced_widgets": [
            "4e079c898764414e8f582e0c19cf5f66",
            "cb85e04c47024fd3a1111be72ef26dc0",
            "676381deb0034bcab3cf2b033ad27bf8"
          ]
        }
      },
      "source": [
        "import ipywidgets as widgets\n",
        "from IPython.display import display, clear_output\n",
        "market = widgets.Dropdown(\\\n",
        "                          options=[\"Select Market\", \"APAC & Singapore\", \"AUS\", \"EUROZONE\", \"LACAR\", \"NORDIC\", \"UK\"],\\\n",
        "                          value='Select Market',\\\n",
        "                          description='Market:',\\\n",
        "                          disabled=False\\\n",
        "                          )\n",
        "def dropdown_market_eventhandler(change):\n",
        "    if (change.new == 'UK'):\n",
        "        clear_output\n",
        "    elif (change.new == 'APAC & Singapore'):\n",
        "        clear_output\n",
        "    elif (change.new == 'AUS'):\n",
        "        clear_output\n",
        "    elif (change.new == 'EUROZONE'):\n",
        "        clear_output\n",
        "    elif (change.new == 'LACAR'):\n",
        "        clear_output\n",
        "    elif (change.new == 'NORDIC'):\n",
        "        clear_output\n",
        "    else:\n",
        "        clear_output\n",
        "        print('Please select a market')\n",
        "\n",
        "market.observe(dropdown_market_eventhandler, names='value')\n",
        "#@markdown ### Select your market:\n",
        "display(market)"
      ],
      "execution_count": 2,
      "outputs": [
        {
          "output_type": "display_data",
          "data": {
            "application/vnd.jupyter.widget-view+json": {
              "model_id": "4e079c898764414e8f582e0c19cf5f66",
              "version_minor": 0,
              "version_major": 2
            },
            "text/plain": [
              "Dropdown(description='Market:', options=('Select Market', 'APAC & Singapore', 'AUS', 'EUROZONE', 'LACAR', 'NOR…"
            ]
          },
          "metadata": {
            "tags": []
          }
        }
      ]
    },
    {
      "cell_type": "code",
      "metadata": {
        "id": "dUSD_uSPZAuj",
        "colab_type": "code",
        "outputId": "82f6dcc7-65af-4caa-ec02-a9a9dedd3e1a",
        "colab": {
          "base_uri": "https://localhost:8080/",
          "height": 35
        }
      },
      "source": [
        "selected_market = market.value\n",
        "print(selected_market)"
      ],
      "execution_count": 3,
      "outputs": [
        {
          "output_type": "stream",
          "text": [
            "UK\n"
          ],
          "name": "stdout"
        }
      ]
    },
    {
      "cell_type": "code",
      "metadata": {
        "id": "fOyVpAOalUgK",
        "colab_type": "code",
        "outputId": "1ce6d4a8-599f-4e52-c78e-d4845d383128",
        "colab": {
          "resources": {
            "http://localhost:8080/nbextensions/google.colab/files.js": {
              "data": "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",
              "ok": true,
              "headers": [
                [
                  "content-type",
                  "application/javascript"
                ]
              ],
              "status": 200,
              "status_text": ""
            }
          },
          "base_uri": "https://localhost:8080/",
          "height": 37
        }
      },
      "source": [
        "#Load the source file\n",
        "from google.colab import files # Use to load data on Google Colab\n",
        "uploaded = files.upload() # Use to load data on Google Colab"
      ],
      "execution_count": 36,
      "outputs": [
        {
          "output_type": "display_data",
          "data": {
            "text/html": [
              "\n",
              "     <input type=\"file\" id=\"files-97777318-15f8-4d17-9863-fd2bc06d187a\" name=\"files[]\" multiple disabled />\n",
              "     <output id=\"result-97777318-15f8-4d17-9863-fd2bc06d187a\">\n",
              "      Upload widget is only available when the cell has been executed in the\n",
              "      current browser session. Please rerun this cell to enable.\n",
              "      </output>\n",
              "      <script src=\"/nbextensions/google.colab/files.js\"></script> "
            ],
            "text/plain": [
              "<IPython.core.display.HTML object>"
            ]
          },
          "metadata": {
            "tags": []
          }
        }
      ]
    },
    {
      "cell_type": "markdown",
      "metadata": {
        "id": "ADdKvNMVnH-P",
        "colab_type": "text"
      },
      "source": [
        "## Everything after this do not touch \n",
        "\n",
        "After you have set the above parameters, click \"Runtime > Run All\".\n",
        "\n",
        "*Note:* If you have already updated the source file, click cancel upload above.\n",
        "\n",
        "---\n",
        "\n"
      ]
    },
    {
      "cell_type": "code",
      "metadata": {
        "id": "Vklwnw1clEQJ",
        "colab_type": "code",
        "colab": {}
      },
      "source": [
        "#Import Libraries\n",
        "import pandas as pd\n",
        "import numpy as np"
      ],
      "execution_count": 0,
      "outputs": []
    },
    {
      "cell_type": "code",
      "metadata": {
        "id": "WMy_ro5Dp9-X",
        "colab_type": "code",
        "colab": {}
      },
      "source": [
        "#Clean up the beginning of the csv\n",
        "#Remove the first 7 lines\n",
        "source_filename = source_file + '.csv'\n",
        "raw_df = pd.read_csv(source_filename)\n",
        "raw_df = raw_df.iloc[6:]\n",
        "df = raw_df\n",
        "#Reset the column names\n",
        "df.columns = df.iloc[0]\n",
        "df = df.iloc[1:]\n"
      ],
      "execution_count": 0,
      "outputs": []
    },
    {
      "cell_type": "code",
      "metadata": {
        "id": "cy4Ee7xolZAr",
        "colab_type": "code",
        "outputId": "e882a9de-c9b6-426d-b12e-abd69a1f5af8",
        "colab": {
          "base_uri": "https://localhost:8080/",
          "height": 298
        }
      },
      "source": [
        "#Print the first 3 rows of the data set\n",
        "df.head(3)"
      ],
      "execution_count": 16,
      "outputs": [
        {
          "output_type": "execute_result",
          "data": {
            "text/html": [
              "<div>\n",
              "<style scoped>\n",
              "    .dataframe tbody tr th:only-of-type {\n",
              "        vertical-align: middle;\n",
              "    }\n",
              "\n",
              "    .dataframe tbody tr th {\n",
              "        vertical-align: top;\n",
              "    }\n",
              "\n",
              "    .dataframe thead th {\n",
              "        text-align: right;\n",
              "    }\n",
              "</style>\n",
              "<table border=\"1\" class=\"dataframe\">\n",
              "  <thead>\n",
              "    <tr style=\"text-align: right;\">\n",
              "      <th>6</th>\n",
              "      <th>Job ID</th>\n",
              "      <th>Email Name</th>\n",
              "      <th>Send Start Time</th>\n",
              "      <th>Send Complete Time</th>\n",
              "      <th>Sends</th>\n",
              "      <th>Implicit Deliveries</th>\n",
              "      <th>Implicit Delivery Rate</th>\n",
              "      <th>Overall Bounces</th>\n",
              "      <th>Overall Bounce Rate</th>\n",
              "      <th>Hard Bounces</th>\n",
              "      <th>Hard Bounce Rate</th>\n",
              "      <th>Soft Bounces</th>\n",
              "      <th>Soft Bounce Rate</th>\n",
              "      <th>Block Bounces</th>\n",
              "      <th>Block Bounce Rate</th>\n",
              "      <th>Technical Bounces</th>\n",
              "      <th>Technical Bounce Rate</th>\n",
              "      <th>Unknown Bounces</th>\n",
              "      <th>Unknown Bounces Rate</th>\n",
              "      <th>Unique Opens</th>\n",
              "      <th>Cumulative Opens</th>\n",
              "      <th>Open Rate</th>\n",
              "      <th>Unique Clicks</th>\n",
              "      <th>Cumulative Clicks</th>\n",
              "      <th>Click Rate</th>\n",
              "      <th>Unique Survey Responses</th>\n",
              "      <th>Cumulative Survey Responses</th>\n",
              "      <th>Survey Response Rate</th>\n",
              "      <th>Unique Conversions</th>\n",
              "      <th>Cumulative Conversions</th>\n",
              "      <th>Conversion Rate</th>\n",
              "      <th>Unique FTAFs</th>\n",
              "      <th>Cumulative FTAFs</th>\n",
              "      <th>FTAF Rate</th>\n",
              "      <th>Unique FTAF Recipients</th>\n",
              "      <th>Cumulative FTAF Recipients</th>\n",
              "      <th>FTAF Recipient Rate</th>\n",
              "      <th>Unique FTAF Subscribers</th>\n",
              "      <th>Cumulative FTAF Subscribers</th>\n",
              "      <th>FTAF Subscriber Rate</th>\n",
              "      <th>Complaint Deliveries</th>\n",
              "      <th>Unique Complaints</th>\n",
              "      <th>Cumulative Complaints</th>\n",
              "      <th>Complaint Rate</th>\n",
              "      <th>Unique Unsubscribes</th>\n",
              "      <th>Cumulative Unsubscribes</th>\n",
              "      <th>Unsubscribe Rate</th>\n",
              "    </tr>\n",
              "  </thead>\n",
              "  <tbody>\n",
              "    <tr>\n",
              "      <th>7</th>\n",
              "      <td>11710290</td>\n",
              "      <td>RCI_TAC_FebruaryWOW-Sale_drop1_PR_UK</td>\n",
              "      <td>2/5/2020 4:47:40 PM</td>\n",
              "      <td>2/5/2020 4:47:40 PM</td>\n",
              "      <td>5</td>\n",
              "      <td>5</td>\n",
              "      <td>100.00%</td>\n",
              "      <td>0</td>\n",
              "      <td>0.00%</td>\n",
              "      <td>0</td>\n",
              "      <td>0.00%</td>\n",
              "      <td>0</td>\n",
              "      <td>0.00%</td>\n",
              "      <td>0</td>\n",
              "      <td>0.00%</td>\n",
              "      <td>0</td>\n",
              "      <td>0.00%</td>\n",
              "      <td>0</td>\n",
              "      <td>0.00%</td>\n",
              "      <td>1</td>\n",
              "      <td>2</td>\n",
              "      <td>20.00%</td>\n",
              "      <td>1</td>\n",
              "      <td>2</td>\n",
              "      <td>20.00%</td>\n",
              "      <td>0</td>\n",
              "      <td>0</td>\n",
              "      <td>0.00%</td>\n",
              "      <td>0</td>\n",
              "      <td>0</td>\n",
              "      <td>0.00%</td>\n",
              "      <td>0</td>\n",
              "      <td>0</td>\n",
              "      <td>0.00%</td>\n",
              "      <td>0</td>\n",
              "      <td>0</td>\n",
              "      <td>0.00%</td>\n",
              "      <td>0</td>\n",
              "      <td>0</td>\n",
              "      <td>0.00%</td>\n",
              "      <td>0</td>\n",
              "      <td>0</td>\n",
              "      <td>0</td>\n",
              "      <td>0.00%</td>\n",
              "      <td>0</td>\n",
              "      <td>0</td>\n",
              "      <td>0.00%</td>\n",
              "    </tr>\n",
              "    <tr>\n",
              "      <th>8</th>\n",
              "      <td>11710289</td>\n",
              "      <td>RCI_TAC_FebruaryWOW-Sale_drop1_PR_IRL</td>\n",
              "      <td>2/5/2020 4:45:42 PM</td>\n",
              "      <td>2/5/2020 4:45:57 PM</td>\n",
              "      <td>6,411</td>\n",
              "      <td>6,385</td>\n",
              "      <td>99.594%</td>\n",
              "      <td>26</td>\n",
              "      <td>0.406%</td>\n",
              "      <td>7</td>\n",
              "      <td>0.109%</td>\n",
              "      <td>5</td>\n",
              "      <td>0.078%</td>\n",
              "      <td>11</td>\n",
              "      <td>0.172%</td>\n",
              "      <td>2</td>\n",
              "      <td>0.031%</td>\n",
              "      <td>1</td>\n",
              "      <td>0.016%</td>\n",
              "      <td>463</td>\n",
              "      <td>605</td>\n",
              "      <td>7.251%</td>\n",
              "      <td>107</td>\n",
              "      <td>163</td>\n",
              "      <td>1.676%</td>\n",
              "      <td>0</td>\n",
              "      <td>0</td>\n",
              "      <td>0.00%</td>\n",
              "      <td>0</td>\n",
              "      <td>0</td>\n",
              "      <td>0.00%</td>\n",
              "      <td>0</td>\n",
              "      <td>0</td>\n",
              "      <td>0.00%</td>\n",
              "      <td>0</td>\n",
              "      <td>0</td>\n",
              "      <td>0.00%</td>\n",
              "      <td>0</td>\n",
              "      <td>0</td>\n",
              "      <td>0.00%</td>\n",
              "      <td>0</td>\n",
              "      <td>0</td>\n",
              "      <td>0</td>\n",
              "      <td>0.00%</td>\n",
              "      <td>1</td>\n",
              "      <td>1</td>\n",
              "      <td>0.016%</td>\n",
              "    </tr>\n",
              "    <tr>\n",
              "      <th>9</th>\n",
              "      <td>11710284</td>\n",
              "      <td>RCI_TAC_FebruaryWOW-Sale_drop1_PG_IRL</td>\n",
              "      <td>2/5/2020 4:45:44 PM</td>\n",
              "      <td>2/5/2020 4:45:58 PM</td>\n",
              "      <td>15,344</td>\n",
              "      <td>15,319</td>\n",
              "      <td>99.837%</td>\n",
              "      <td>25</td>\n",
              "      <td>0.163%</td>\n",
              "      <td>13</td>\n",
              "      <td>0.085%</td>\n",
              "      <td>7</td>\n",
              "      <td>0.046%</td>\n",
              "      <td>3</td>\n",
              "      <td>0.02%</td>\n",
              "      <td>0</td>\n",
              "      <td>0.00%</td>\n",
              "      <td>2</td>\n",
              "      <td>0.013%</td>\n",
              "      <td>1,213</td>\n",
              "      <td>1,558</td>\n",
              "      <td>7.918%</td>\n",
              "      <td>190</td>\n",
              "      <td>283</td>\n",
              "      <td>1.24%</td>\n",
              "      <td>0</td>\n",
              "      <td>0</td>\n",
              "      <td>0.00%</td>\n",
              "      <td>0</td>\n",
              "      <td>0</td>\n",
              "      <td>0.00%</td>\n",
              "      <td>0</td>\n",
              "      <td>0</td>\n",
              "      <td>0.00%</td>\n",
              "      <td>0</td>\n",
              "      <td>0</td>\n",
              "      <td>0.00%</td>\n",
              "      <td>0</td>\n",
              "      <td>0</td>\n",
              "      <td>0.00%</td>\n",
              "      <td>0</td>\n",
              "      <td>0</td>\n",
              "      <td>0</td>\n",
              "      <td>0.00%</td>\n",
              "      <td>13</td>\n",
              "      <td>16</td>\n",
              "      <td>0.085%</td>\n",
              "    </tr>\n",
              "  </tbody>\n",
              "</table>\n",
              "</div>"
            ],
            "text/plain": [
              "6    Job ID  ... Unsubscribe Rate\n",
              "7  11710290  ...            0.00%\n",
              "8  11710289  ...           0.016%\n",
              "9  11710284  ...           0.085%\n",
              "\n",
              "[3 rows x 47 columns]"
            ]
          },
          "metadata": {
            "tags": []
          },
          "execution_count": 16
        }
      ]
    },
    {
      "cell_type": "code",
      "metadata": {
        "id": "a44rak6yvPWX",
        "colab_type": "code",
        "outputId": "e6eff368-2057-4b3a-a364-e20bbdbabdb7",
        "colab": {
          "base_uri": "https://localhost:8080/",
          "height": 125
        }
      },
      "source": [
        "desired_columns = df[['Job ID', 'Email Name', 'Send Complete Time', 'Sends', 'Implicit Deliveries', 'Unique Opens', 'Open Rate', 'Unique Clicks', 'Click Rate', 'Unique Unsubscribes', 'Unsubscribe Rate']].reset_index(drop=True)\n",
        "print(desired_columns.head(3))"
      ],
      "execution_count": 17,
      "outputs": [
        {
          "output_type": "stream",
          "text": [
            "6    Job ID  ... Unsubscribe Rate\n",
            "0  11710290  ...            0.00%\n",
            "1  11710289  ...           0.016%\n",
            "2  11710284  ...           0.085%\n",
            "\n",
            "[3 rows x 11 columns]\n"
          ],
          "name": "stdout"
        }
      ]
    },
    {
      "cell_type": "code",
      "metadata": {
        "id": "JTjrrifrxrpK",
        "colab_type": "code",
        "colab": {}
      },
      "source": [
        "#Remove unnecessary lines\n",
        "desired_columns['Job ID'].replace('', np.nan, inplace=True)\n",
        "desired_columns.dropna(subset=['Job ID'], inplace=True)\n",
        "#Remove Commas from Implicit Deliveries\n",
        "desired_columns['Implicit Deliveries'] = desired_columns['Implicit Deliveries'].str.replace(',', '')\n",
        "#Convert Implicit Deliveries from str to int\n",
        "desired_columns['Implicit Deliveries'] = desired_columns['Implicit Deliveries'].astype(int)"
      ],
      "execution_count": 0,
      "outputs": []
    },
    {
      "cell_type": "code",
      "metadata": {
        "id": "4bzEDauR3IBf",
        "colab_type": "code",
        "colab": {}
      },
      "source": [
        "above_minimum = desired_columns[desired_columns['Implicit Deliveries'].notnull() & (desired_columns['Implicit Deliveries'] > minimum_number)]"
      ],
      "execution_count": 0,
      "outputs": []
    },
    {
      "cell_type": "code",
      "metadata": {
        "id": "G9-MN0zQJuma",
        "colab_type": "code",
        "colab": {}
      },
      "source": [
        "#Global Variables\n",
        "week_of = 'week-' + start_date + '-' + end_date\n",
        "tactical = above_minimum['Email Name'].str.startswith('RCI_TAC')\n",
        "engagement = above_minimum['Email Name'].str.startswith('RCI_ENG')\n",
        "pcp = above_minimum['Email Name'].str.startswith('RCI_PCP')\n",
        "\n",
        "#Country Variables\n",
        "#UK\n",
        "uk_filter = above_minimum['Email Name'].str.endswith('UK')\n",
        "uk_filename = 'uk-' + week_of + '.csv'\n",
        "#IRL\n",
        "irl_filter = above_minimum['Email Name'].str.endswith('IRL')\n",
        "irl_filename = 'irl-' + week_of + '.csv'\n",
        "\n",
        "#IND\n",
        "ind_filter = above_minimum['Email Name'].str.endswith('IND')\n",
        "ind_filename = 'ind-' + week_of + '.csv'\n",
        "#MYS\n",
        "mys_filter = above_minimum['Email Name'].str.endswith('MYS')\n",
        "mys_filename = 'mys-' + week_of + '.csv'\n",
        "#SGP\n",
        "sgp_filter = above_minimum['Email Name'].str.endswith('SGP')\n",
        "sgp_filename = 'sgp-' + week_of + '.csv'\n",
        "\n",
        "#AUS\n",
        "aus_filter = above_minimum['Email Name'].str.endswith('AUS')\n",
        "aus_filename = 'aus-' + week_of + '.csv'\n",
        "#NZL\n",
        "nzl_filter = above_minimum['Email Name'].str.endswith('NZL')\n",
        "nzl_filename = 'nzl-' + week_of + '.csv'\n",
        "\n",
        "#ESP\n",
        "esp_filter = above_minimum['Email Name'].str.endswith('ESP')\n",
        "esp_filename = 'esp-' + week_of + '.csv'\n",
        "#NOT DEU\n",
        "deu_filter = above_minimum['Email Name'].str.endswith('DEU')\n",
        "deu_filename = 'deu-' + week_of + '.csv'\n",
        "#NOT ITA\n",
        "ita_filter = above_minimum['Email Name'].str.endswith('ITA')\n",
        "ita_filename = 'ita-' + week_of + '.csv'\n",
        "#NOT FRA\n",
        "fra_filter = above_minimum['Email Name'].str.endswith('FRA')\n",
        "fra_filename = 'fra-' + week_of + '.csv'\n",
        "#NOT SWZ\n",
        "swz_filter = above_minimum['Email Name'].str.endswith('SWZ')\n",
        "swz_filename = 'swz-' + week_of + '.csv'\n",
        "#NOT AUT\n",
        "aut_filter = above_minimum['Email Name'].str.endswith('AUT')\n",
        "aut_filename = 'aut-' + week_of + '.csv'\n",
        "\n",
        "#NOR\n",
        "nor_filter = above_minimum['Email Name'].str.endswith('NOR')\n",
        "nor_filename = 'nor-' + week_of + '.csv'\n",
        "#SWE\n",
        "swe_filter = above_minimum['Email Name'].str.endswith('SWE')\n",
        "swe_filename = 'swe-' + week_of + '.csv'\n",
        "#NOT DNK\n",
        "dnk_filter = above_minimum['Email Name'].str.endswith('DNK')\n",
        "dnk_filename = 'dnk-' + week_of + '.csv'\n",
        "#NOT FIN\n",
        "fin_filter = above_minimum['Email Name'].str.endswith('FIN')\n",
        "fin_filename = 'fin-' + week_of + '.csv'\n",
        "\n",
        "#COL\n",
        "col_filter = above_minimum['Email Name'].str.endswith('COL')\n",
        "col_filename = 'col-' + week_of + '.csv'\n",
        "#CHL\n",
        "chl_filter = above_minimum['Email Name'].str.endswith('CHL')\n",
        "chl_filename = 'chl-' + week_of + '.csv'\n",
        "#BOL\n",
        "bol_filter = above_minimum['Email Name'].str.endswith('BOL')\n",
        "bol_filename = 'bol-' + week_of + '.csv'\n",
        "#MEX\n",
        "mex_filter = above_minimum['Email Name'].str.endswith('MEX')\n",
        "mex_filename = 'mex-' + week_of + '.csv'\n",
        "#PAN\n",
        "pan_filter = above_minimum['Email Name'].str.endswith('PAN')\n",
        "pan_filename = 'pan-' + week_of + '.csv'\n",
        "#ARG\n",
        "arg_filter = above_minimum['Email Name'].str.endswith('ARG')\n",
        "arg_filename = 'arg-' + week_of + '.csv'"
      ],
      "execution_count": 0,
      "outputs": []
    },
    {
      "cell_type": "code",
      "metadata": {
        "id": "d3hLdE6hTay0",
        "colab_type": "code",
        "colab": {}
      },
      "source": [
        "#Country processor\n",
        "def country_processor(selected_market):\n",
        "  if selected_market == \"UK\":\n",
        "    uk = above_minimum[(tactical | engagement) & uk_filter]\n",
        "    irl = above_minimum[(tactical | engagement) & irl_filter]\n",
        "    uk.to_csv(uk_filename)\n",
        "    irl.to_csv(irl_filename)\n",
        "  elif selected_market == 'APAC & Singapore':\n",
        "    ind = above_minimum[(tactical | engagement) & ind_filter]\n",
        "    mys = above_minimum[(tactical | engagement) & mys_filter]\n",
        "    sgp = above_minimum[(tactical | engagement) & sgp_filter]\n",
        "    ind.to_csv(ind_filename)\n",
        "    mys.to_csv(mys_filename)\n",
        "    sgp.to_csv(sgp_filename)   \n",
        "  elif selected_market == 'AUS':\n",
        "    aus = above_minimum[(tactical | engagement) & aus_filter]\n",
        "    nzl = above_minimum[(tactical | engagement) & nzl_filter]\n",
        "    aus.to_csv(aus_filename)\n",
        "    nzl.to_csv(nzl_filename)\n",
        "  elif selected_market == 'EUROZONE':\n",
        "    esp = above_minimum[(tactical | engagement) & esp_filter]\n",
        "    esp.to_csv(esp_filename)\n",
        "  elif selected_market == 'LACAR':\n",
        "    col = above_minimum[(tactical | engagement) & col_filter]\n",
        "    chl = above_minimum[(tactical | engagement) & chl_filter]\n",
        "    bol = above_minimum[(tactical | engagement) & bol_filter]\n",
        "    mex = above_minimum[(tactical | engagement) & mex_filter]\n",
        "    pan = above_minimum[(tactical | engagement) & pan_filter]\n",
        "    arg = above_minimum[(tactical | engagement) & arg_filter]\n",
        "    col.to_csv(col_filename)\n",
        "    chl.to_csv(chl_filename)\n",
        "    bol.to_csv(bol_filename)\n",
        "    mex.to_csv(mex_filename)\n",
        "    pan.to_csv(pan_filename)\n",
        "    arg.to_csv(arg_filename)\n",
        "  elif selected_market == 'NORDIC':\n",
        "    nor = above_minimum[(tactical | engagement) & nor_filter]\n",
        "    swe = above_minimum[(tactical | engagement) & swe_filter]\n",
        "    nor.to_csv(nor_filename)\n",
        "    swe.to_csv(swe_filename)\n",
        "  else:\n",
        "    print(\"Country not complete yet\")\n",
        "\n",
        "country_processor(selected_market)\n"
      ],
      "execution_count": 0,
      "outputs": []
    },
    {
      "cell_type": "code",
      "metadata": {
        "id": "N2MeT1QhH0Iv",
        "colab_type": "code",
        "colab": {
          "base_uri": "https://localhost:8080/",
          "height": 334
        },
        "outputId": "147be895-d905-454a-e493-9fc6f1d3aa48"
      },
      "source": [
        "#File Downloader\n",
        "def file_downloader(selected_market):\n",
        "  if selected_market == \"UK\":\n",
        "    files.download(uk_filename)\n",
        "    files.download(irl_filename)\n",
        "  elif selected_market == 'APAC & Singapore':\n",
        "    files.download(ind_filename)\n",
        "    files.download(mys_filename)\n",
        "    files.download(sgp_filename) \n",
        "  elif selected_market == 'AUS':\n",
        "    files.download(aus_filename)\n",
        "    files.download(nzl_filename)\n",
        "  elif selected_market == 'EUROZONE':\n",
        "    files.download(esp_filename)\n",
        "    esp.to_csv(esp_filename)\n",
        "  elif selected_market == 'LACAR':\n",
        "    files.download(col_filename)\n",
        "    files.download(chl_filename)\n",
        "    files.download(bol_filename)\n",
        "    files.download(mex_filename)\n",
        "    files.download(pan_filename)\n",
        "    files.download(arg_filename)\n",
        "  elif selected_market == 'NORDIC':\n",
        "    files.download(nor_filename)\n",
        "    files.download(swe_filename)\n",
        "  else:\n",
        "    print(\"Country not complete yet\")\n",
        "  \n",
        "file_downloader(selected_market)"
      ],
      "execution_count": 22,
      "outputs": [
        {
          "output_type": "error",
          "ename": "NameError",
          "evalue": "ignored",
          "traceback": [
            "\u001b[0;31m---------------------------------------------------------------------------\u001b[0m",
            "\u001b[0;31mNameError\u001b[0m                                 Traceback (most recent call last)",
            "\u001b[0;32m<ipython-input-22-8ded0243aa15>\u001b[0m in \u001b[0;36m<module>\u001b[0;34m()\u001b[0m\n\u001b[1;32m     26\u001b[0m     \u001b[0mprint\u001b[0m\u001b[0;34m(\u001b[0m\u001b[0;34m\"Country not complete yet\"\u001b[0m\u001b[0;34m)\u001b[0m\u001b[0;34m\u001b[0m\u001b[0;34m\u001b[0m\u001b[0m\n\u001b[1;32m     27\u001b[0m \u001b[0;34m\u001b[0m\u001b[0m\n\u001b[0;32m---> 28\u001b[0;31m \u001b[0mfile_downloader\u001b[0m\u001b[0;34m(\u001b[0m\u001b[0mselected_market\u001b[0m\u001b[0;34m)\u001b[0m\u001b[0;34m\u001b[0m\u001b[0;34m\u001b[0m\u001b[0m\n\u001b[0m",
            "\u001b[0;32m<ipython-input-22-8ded0243aa15>\u001b[0m in \u001b[0;36mfile_downloader\u001b[0;34m(selected_market)\u001b[0m\n\u001b[1;32m      1\u001b[0m \u001b[0;32mdef\u001b[0m \u001b[0mfile_downloader\u001b[0m\u001b[0;34m(\u001b[0m\u001b[0mselected_market\u001b[0m\u001b[0;34m)\u001b[0m\u001b[0;34m:\u001b[0m\u001b[0;34m\u001b[0m\u001b[0;34m\u001b[0m\u001b[0m\n\u001b[1;32m      2\u001b[0m   \u001b[0;32mif\u001b[0m \u001b[0mselected_market\u001b[0m \u001b[0;34m==\u001b[0m \u001b[0;34m\"UK\"\u001b[0m\u001b[0;34m:\u001b[0m\u001b[0;34m\u001b[0m\u001b[0;34m\u001b[0m\u001b[0m\n\u001b[0;32m----> 3\u001b[0;31m     \u001b[0mfiles\u001b[0m\u001b[0;34m.\u001b[0m\u001b[0mdownload\u001b[0m\u001b[0;34m(\u001b[0m\u001b[0muk_filename\u001b[0m\u001b[0;34m)\u001b[0m\u001b[0;34m\u001b[0m\u001b[0;34m\u001b[0m\u001b[0m\n\u001b[0m\u001b[1;32m      4\u001b[0m     \u001b[0mfiles\u001b[0m\u001b[0;34m.\u001b[0m\u001b[0mdownload\u001b[0m\u001b[0;34m(\u001b[0m\u001b[0mirl_filename\u001b[0m\u001b[0;34m)\u001b[0m\u001b[0;34m\u001b[0m\u001b[0;34m\u001b[0m\u001b[0m\n\u001b[1;32m      5\u001b[0m   \u001b[0;32melif\u001b[0m \u001b[0mselected_market\u001b[0m \u001b[0;34m==\u001b[0m \u001b[0;34m'APAC & Singapore'\u001b[0m\u001b[0;34m:\u001b[0m\u001b[0;34m\u001b[0m\u001b[0;34m\u001b[0m\u001b[0m\n",
            "\u001b[0;31mNameError\u001b[0m: name 'files' is not defined"
          ]
        }
      ]
    }
  ]
}